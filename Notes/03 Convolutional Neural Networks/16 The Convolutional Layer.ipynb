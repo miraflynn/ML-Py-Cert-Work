{
 "cells": [
  {
   "cell_type": "markdown",
   "metadata": {},
   "source": [
    "- want convolutional layer to tell us about the presence of some filters in the image\n",
    "- filter: some pattern of pixels\n",
    "- at each convolutional layer, we look for many different filters (about 32, sometimes 64 or 128)\n",
    "- filters are what will be trained\n",
    "- amount of filters and what they are will change as the program goes on\n",
    "- convolutional layer outputs a feature map which tells us about the presence of specific patterns at different points in the image\n",
    "- basic kernel convolution, see complexity science\n",
    "- output layer is smaller in each dimension because of convolution\n",
    "- this is gonna be crazy slow, let's talk pooling but in a minute\n",
    "- next convolutional layer is gonna be the same process but on the output, going from very simple patterns to more complex ones\n",
    "### padding\n",
    "- sometimes, we want to make sure output feature map is the same size as the input\n",
    "- doesn't happen by default cuz convolution\n",
    "- padding is adding a bunch of 0s around the outside of the image such that every original pixel can be in the center of the filter\n",
    "### stride\n",
    "- stride: how much we move the sample box every time we move it\n",
    "- can do it one pixel at a time, or can do multiple\n",
    "### pooling\n",
    "- we're gonna have a lot of layers, a lot of computations, gonna be super slow\n",
    "- 3 types: min, max, average\n",
    "- pooling is taking specific values from the samples of the output feature map\n",
    "- sample some smaller group of pixels and f(group) them to make an output that's got fewer dimensions than the input\n",
    "- typically use a 2x2 pooling with a stride of 2\n",
    "- max pooling used to identify the maximum presence of a feature in that area, not used much\n",
    "- average tells you what exists on average\n",
    "- min identifies if it doesn't exist\n"
   ]
  }
 ],
 "metadata": {
  "language_info": {
   "name": "python"
  }
 },
 "nbformat": 4,
 "nbformat_minor": 2
}
