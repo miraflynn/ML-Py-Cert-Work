{
 "cells": [
  {
   "cell_type": "markdown",
   "metadata": {},
   "source": [
    "# Computer Vision\n",
    "### Image Data\n",
    "- previously using 2d data, mostly width and height\n",
    "- images are 3d data, width and height, and color channels\n",
    "    - W x H x 3 shape\n",
    "    - A 1080p 16:9 image would be 1920 x 1080 x 3\n",
    "## Convolutional Neural Networks\n",
    "- convnet = Convolutional Neural Network\n",
    "- Dense neural network looked at full image at once\n",
    "    - when it learned patterns, learned the pattern in one specific area of the image\n",
    "    - might not recognize the mirror image of an asymmetrical image\n",
    "    - images need to be similar to be classified with dense neural network\n",
    "- Convolutional network learns local patterns\n",
    "    - can find an eye, an ear, etc. anywhere in the image\n",
    "    - scans through the entire image to find features\n",
    "    - then passes the features to a dense neural network\n",
    "    - outputs a feaure map instead of raw numbers of dense nets\n",
    "        - have a filter\n",
    "        - pass filter over the entire image\n",
    "        - create response map that quantifies the presence of the filter's pattern at specific locations\n",
    "        - repeat for many filters finding many features\n",
    "        - start with basic filters (ie straight lines), have layers on top which find more complex filters\n",
    "        - other additional stuff on top but that's the very basic idea\n"
   ]
  }
 ],
 "metadata": {
  "language_info": {
   "name": "python"
  }
 },
 "nbformat": 4,
 "nbformat_minor": 2
}
