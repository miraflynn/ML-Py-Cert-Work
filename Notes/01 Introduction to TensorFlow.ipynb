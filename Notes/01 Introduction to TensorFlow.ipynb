{
 "cells": [
  {
   "cell_type": "markdown",
   "metadata": {},
   "source": [
    "## Tensors\n",
    "- essentially a vector\n",
    "- can have any number of dimensions\n",
    "- \"A tensor is a generalization of vectors and matrices to potentially higher dimensions\"\n",
    "- Each tensor represents a partially defined computation that will eventually produce a value\n",
    "- each tensor has a datatype and shape"
   ]
  },
  {
   "cell_type": "code",
   "execution_count": 10,
   "metadata": {},
   "outputs": [],
   "source": [
    "import tensorflow as tf"
   ]
  },
  {
   "cell_type": "markdown",
   "metadata": {},
   "source": [
    "- scalar tensors: only 1 value\n",
    "- rank = degree: number of dimensions in the tensor\n",
    "- scalar tensors have rank 0\n",
    "- tensor with single array have rank 1\n",
    "- tensor with array of arrays have rank 2"
   ]
  },
  {
   "cell_type": "code",
   "execution_count": 11,
   "metadata": {},
   "outputs": [],
   "source": [
    "rank0_tensor = tf.Variable(\"a\", tf.string)\n",
    "rank1_tensor = tf.Variable([\"a\", \"b\"], tf.string)\n",
    "rank2_tensor = tf.Variable([[\"a\",\"b\"],[\"c\",\"d\"]], tf.string)\n"
   ]
  },
  {
   "cell_type": "markdown",
   "metadata": {},
   "source": [
    "- rank is deepest level of nested list\n",
    "- rank 2 called matrix/matrices"
   ]
  },
  {
   "cell_type": "code",
   "execution_count": 12,
   "metadata": {},
   "outputs": [
    {
     "data": {
      "text/plain": [
       "<tf.Tensor: shape=(), dtype=int32, numpy=0>"
      ]
     },
     "execution_count": 12,
     "metadata": {},
     "output_type": "execute_result"
    }
   ],
   "source": [
    "tf.rank(rank0_tensor)"
   ]
  },
  {
   "cell_type": "code",
   "execution_count": 13,
   "metadata": {},
   "outputs": [
    {
     "data": {
      "text/plain": [
       "<tf.Tensor: shape=(), dtype=int32, numpy=1>"
      ]
     },
     "execution_count": 13,
     "metadata": {},
     "output_type": "execute_result"
    }
   ],
   "source": [
    "tf.rank(rank1_tensor)"
   ]
  },
  {
   "cell_type": "code",
   "execution_count": 9,
   "metadata": {},
   "outputs": [
    {
     "data": {
      "text/plain": [
       "<tf.Tensor: shape=(), dtype=int32, numpy=2>"
      ]
     },
     "execution_count": 9,
     "metadata": {},
     "output_type": "execute_result"
    }
   ],
   "source": [
    "tf.rank(rank2_tensor)"
   ]
  },
  {
   "cell_type": "code",
   "execution_count": 14,
   "metadata": {},
   "outputs": [
    {
     "data": {
      "text/plain": [
       "TensorShape([2, 2])"
      ]
     },
     "execution_count": 14,
     "metadata": {},
     "output_type": "execute_result"
    }
   ],
   "source": [
    "rank2_tensor.shape"
   ]
  },
  {
   "cell_type": "markdown",
   "metadata": {},
   "source": [
    "shape [2, 2]: 2 elements in first dimension, 2 elements in second dimension"
   ]
  },
  {
   "cell_type": "code",
   "execution_count": 20,
   "metadata": {},
   "outputs": [
    {
     "data": {
      "text/plain": [
       "TensorShape([2])"
      ]
     },
     "execution_count": 20,
     "metadata": {},
     "output_type": "execute_result"
    }
   ],
   "source": [
    "rank1_tensor.shape"
   ]
  },
  {
   "cell_type": "markdown",
   "metadata": {},
   "source": [
    "### Changing Shape\n",
    "- many different shapes that can represent the same number of elements\n",
    "- can reshape data for same amount of elements but in different shape\n",
    "- ex, can put a 3x3 into a 1x9\n",
    "- number of elements is product of each element of the shape"
   ]
  },
  {
   "cell_type": "code",
   "execution_count": 25,
   "metadata": {},
   "outputs": [
    {
     "name": "stdout",
     "output_type": "stream",
     "text": [
      "tf.Tensor(\n",
      "[[[1. 1. 1.]\n",
      "  [1. 1. 1.]]], shape=(1, 2, 3), dtype=float32)\n",
      "tf.Tensor(\n",
      "[[[1.]\n",
      "  [1.]\n",
      "  [1.]]\n",
      "\n",
      " [[1.]\n",
      "  [1.]\n",
      "  [1.]]], shape=(2, 3, 1), dtype=float32)\n",
      "tf.Tensor(\n",
      "[[1. 1.]\n",
      " [1. 1.]\n",
      " [1. 1.]], shape=(3, 2), dtype=float32)\n"
     ]
    }
   ],
   "source": [
    "tensor1 = tf.ones([1,2,3]) # create shape [1,2,3] of ones\n",
    "print(tensor1) # 1 interior list, 2 lists within that, 3 elements within those lists, 6 total\n",
    "tensor2 = tf.reshape(tensor1, [2,3,1])\n",
    "print(tensor2) # 2 interior lists, 3 lists within that, 1 elements within those list\n",
    "tensor3 = tf.reshape(tensor2, [3, -1]) # -1 tells tf to calculate the size of the dimension in that place\n",
    "                                       # will reshape to [3, 2]\n",
    "print(tensor3)"
   ]
  },
  {
   "cell_type": "markdown",
   "metadata": {},
   "source": [
    "### Types\n",
    "    - Variable: mutable\n",
    "    - Constant: immutable\n",
    "    - Placeholder: wont discuss much\n",
    "    - SparseTensor: wont discuss much\n",
    "- all immutable except for variable\n",
    "\n",
    "### Evaluating Tensors\n",
    "- create a session\n",
    "- sometimes we have to evaluate the tensor to do something else\n",
    "\n",
    "```\n",
    "with tf.Session() as sess:\n",
    "    tensor1.eval()\n",
    "```"
   ]
  }
 ],
 "metadata": {
  "kernelspec": {
   "display_name": "Python 3",
   "language": "python",
   "name": "python3"
  },
  "language_info": {
   "codemirror_mode": {
    "name": "ipython",
    "version": 3
   },
   "file_extension": ".py",
   "mimetype": "text/x-python",
   "name": "python",
   "nbconvert_exporter": "python",
   "pygments_lexer": "ipython3",
   "version": "3.11.5"
  }
 },
 "nbformat": 4,
 "nbformat_minor": 2
}
