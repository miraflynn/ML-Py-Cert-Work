{
 "cells": [
  {
   "cell_type": "code",
   "execution_count": 1,
   "metadata": {},
   "outputs": [
    {
     "name": "stdout",
     "output_type": "stream",
     "text": [
      "WARNING:tensorflow:From c:\\Users\\miraf\\AppData\\Local\\Programs\\Python\\Python311\\Lib\\site-packages\\keras\\src\\losses.py:2976: The name tf.losses.sparse_softmax_cross_entropy is deprecated. Please use tf.compat.v1.losses.sparse_softmax_cross_entropy instead.\n",
      "\n"
     ]
    }
   ],
   "source": [
    "import tensorflow as tf\n",
    "from tensorflow import keras\n",
    "\n",
    "import numpy as np\n",
    "import matplotlib.pyplot as plt"
   ]
  },
  {
   "cell_type": "code",
   "execution_count": 2,
   "metadata": {},
   "outputs": [],
   "source": [
    "# mnist fashion dataset\n",
    "fashion_mnist = keras.datasets.fashion_mnist\n",
    "\n",
    "(train_images, train_labels), (test_images, test_labels) = fashion_mnist.load_data() # split into testing and training sets"
   ]
  },
  {
   "cell_type": "code",
   "execution_count": 3,
   "metadata": {},
   "outputs": [],
   "source": [
    "class_names = ['T-shirt/top', 'Trouser', 'Pullover', 'Dress', 'Coat', 'Sandal', 'Shirt', 'Sneaker', 'Bag', 'Ankle boot']"
   ]
  },
  {
   "cell_type": "code",
   "execution_count": 4,
   "metadata": {},
   "outputs": [],
   "source": [
    "train_images = train_images/255.0\n",
    "test_images = test_images/255.0"
   ]
  },
  {
   "cell_type": "code",
   "execution_count": 5,
   "metadata": {},
   "outputs": [
    {
     "name": "stdout",
     "output_type": "stream",
     "text": [
      "WARNING:tensorflow:From c:\\Users\\miraf\\AppData\\Local\\Programs\\Python\\Python311\\Lib\\site-packages\\keras\\src\\backend.py:873: The name tf.get_default_graph is deprecated. Please use tf.compat.v1.get_default_graph instead.\n",
      "\n"
     ]
    }
   ],
   "source": [
    "# model building time mfers\n",
    "model = keras.Sequential([\n",
    "    keras.layers.Flatten(input_shape=(28,28)), # input layer 1\n",
    "    keras.layers.Dense (128, activation='relu'), # hidden layer 2\n",
    "    keras.layers.Dense(10, activation='softmax') # output layer 3\n",
    "])"
   ]
  },
  {
   "cell_type": "markdown",
   "metadata": {},
   "source": [
    "- sequential model: info going sequentially from left to right\n",
    "- first layer is flattened, allows us to take in a 28x28 and flatten it into 784 pixels, we don't need to handle the transformation\n",
    "- second layer is 128 nodes tall, is a dense layer, has activation function \"relu\", which is rectified linear unit\n",
    "- third layer is 10 outputs (to match with the number of classes), is dense layer, has activation function softmax, which makes sure all values are between 0 and 1 and will all add up to 1\n",
    "\n",
    "- next need to pick the optimizer we'll use, the loss function, and the metrics we'll use"
   ]
  },
  {
   "cell_type": "code",
   "execution_count": 6,
   "metadata": {},
   "outputs": [
    {
     "name": "stdout",
     "output_type": "stream",
     "text": [
      "WARNING:tensorflow:From c:\\Users\\miraf\\AppData\\Local\\Programs\\Python\\Python311\\Lib\\site-packages\\keras\\src\\optimizers\\__init__.py:309: The name tf.train.Optimizer is deprecated. Please use tf.compat.v1.train.Optimizer instead.\n",
      "\n"
     ]
    }
   ],
   "source": [
    "model.compile(optimizer='adam',\n",
    "              loss='sparse_categorical_crossentropy',\n",
    "              metrics=['accuracy'])\n",
    "# not going into depth on each of these choices"
   ]
  },
  {
   "cell_type": "code",
   "execution_count": 7,
   "metadata": {},
   "outputs": [],
   "source": [
    "#model.fit(train_images, train_labels, epochs=10)\n",
    "# this prints out our accuracy on the training data, which isn't necessarily accurate"
   ]
  },
  {
   "cell_type": "code",
   "execution_count": 8,
   "metadata": {},
   "outputs": [],
   "source": [
    "#test_loss, test_acc = model.evaluate(test_images, test_labels, verbose=1)\n",
    "#print('Test accuracy: ', test_acc)"
   ]
  },
  {
   "cell_type": "markdown",
   "metadata": {},
   "source": [
    "- model was doing really well on the training data, but less well on the test data\n",
    "- so we seem to be overfitting"
   ]
  },
  {
   "cell_type": "code",
   "execution_count": 9,
   "metadata": {},
   "outputs": [
    {
     "name": "stdout",
     "output_type": "stream",
     "text": [
      "WARNING:tensorflow:From c:\\Users\\miraf\\AppData\\Local\\Programs\\Python\\Python311\\Lib\\site-packages\\keras\\src\\utils\\tf_utils.py:492: The name tf.ragged.RaggedTensorValue is deprecated. Please use tf.compat.v1.ragged.RaggedTensorValue instead.\n",
      "\n",
      "WARNING:tensorflow:From c:\\Users\\miraf\\AppData\\Local\\Programs\\Python\\Python311\\Lib\\site-packages\\keras\\src\\engine\\base_layer_utils.py:384: The name tf.executing_eagerly_outside_functions is deprecated. Please use tf.compat.v1.executing_eagerly_outside_functions instead.\n",
      "\n",
      "1875/1875 [==============================] - 2s 828us/step - loss: 0.5034 - accuracy: 0.8224\n",
      "313/313 [==============================] - 0s 620us/step - loss: 0.4189 - accuracy: 0.8494\n",
      "1875/1875 [==============================] - 2s 818us/step - loss: 0.3770 - accuracy: 0.8653\n",
      "313/313 [==============================] - 0s 615us/step - loss: 0.3881 - accuracy: 0.8595\n",
      "1875/1875 [==============================] - 2s 831us/step - loss: 0.3388 - accuracy: 0.8756\n",
      "313/313 [==============================] - 0s 615us/step - loss: 0.3688 - accuracy: 0.8668\n",
      "1875/1875 [==============================] - 2s 827us/step - loss: 0.3146 - accuracy: 0.8847\n",
      "313/313 [==============================] - 0s 639us/step - loss: 0.3723 - accuracy: 0.8669\n",
      "1875/1875 [==============================] - 2s 881us/step - loss: 0.2982 - accuracy: 0.8907\n",
      "313/313 [==============================] - 0s 632us/step - loss: 0.3564 - accuracy: 0.8737\n",
      "1875/1875 [==============================] - 2s 833us/step - loss: 0.2839 - accuracy: 0.8949\n",
      "313/313 [==============================] - 0s 632us/step - loss: 0.3341 - accuracy: 0.8809\n",
      "1875/1875 [==============================] - 2s 833us/step - loss: 0.2706 - accuracy: 0.8991\n",
      "313/313 [==============================] - 0s 640us/step - loss: 0.3504 - accuracy: 0.8733\n",
      "1875/1875 [==============================] - 2s 835us/step - loss: 0.2603 - accuracy: 0.9030\n",
      "313/313 [==============================] - 0s 623us/step - loss: 0.3304 - accuracy: 0.8822\n",
      "1875/1875 [==============================] - 2s 831us/step - loss: 0.2519 - accuracy: 0.9062\n",
      "313/313 [==============================] - 0s 708us/step - loss: 0.3418 - accuracy: 0.8794\n",
      "1875/1875 [==============================] - 2s 826us/step - loss: 0.2411 - accuracy: 0.9090\n",
      "313/313 [==============================] - 0s 618us/step - loss: 0.3346 - accuracy: 0.8814\n",
      "1875/1875 [==============================] - 2s 880us/step - loss: 0.2343 - accuracy: 0.9128\n",
      "313/313 [==============================] - 0s 621us/step - loss: 0.3381 - accuracy: 0.8821\n",
      "1875/1875 [==============================] - 2s 842us/step - loss: 0.2259 - accuracy: 0.9149\n",
      "313/313 [==============================] - 0s 639us/step - loss: 0.3382 - accuracy: 0.8846\n",
      "1875/1875 [==============================] - 2s 896us/step - loss: 0.2180 - accuracy: 0.9180\n",
      "313/313 [==============================] - 0s 633us/step - loss: 0.3695 - accuracy: 0.8763\n",
      "1875/1875 [==============================] - 2s 833us/step - loss: 0.2143 - accuracy: 0.9196\n",
      "313/313 [==============================] - 0s 631us/step - loss: 0.3367 - accuracy: 0.8838\n",
      "1875/1875 [==============================] - 2s 844us/step - loss: 0.2074 - accuracy: 0.9222\n",
      "313/313 [==============================] - 0s 621us/step - loss: 0.3764 - accuracy: 0.8753\n",
      "1875/1875 [==============================] - 2s 839us/step - loss: 0.2009 - accuracy: 0.9243\n",
      "313/313 [==============================] - 0s 626us/step - loss: 0.3802 - accuracy: 0.8780\n",
      "1875/1875 [==============================] - 2s 822us/step - loss: 0.1959 - accuracy: 0.9253\n",
      "313/313 [==============================] - 0s 625us/step - loss: 0.3498 - accuracy: 0.8837\n",
      "1875/1875 [==============================] - 2s 895us/step - loss: 0.1901 - accuracy: 0.9289\n",
      "313/313 [==============================] - 0s 623us/step - loss: 0.3647 - accuracy: 0.8826\n",
      "1875/1875 [==============================] - 2s 822us/step - loss: 0.1851 - accuracy: 0.9301\n",
      "313/313 [==============================] - 0s 657us/step - loss: 0.3669 - accuracy: 0.8784\n",
      "1875/1875 [==============================] - 2s 842us/step - loss: 0.1805 - accuracy: 0.9310\n",
      "313/313 [==============================] - 0s 626us/step - loss: 0.3537 - accuracy: 0.8859\n",
      "1875/1875 [==============================] - 2s 827us/step - loss: 0.1762 - accuracy: 0.9324\n",
      "313/313 [==============================] - 0s 632us/step - loss: 0.3736 - accuracy: 0.8841\n",
      "1875/1875 [==============================] - 2s 824us/step - loss: 0.1713 - accuracy: 0.9356\n",
      "313/313 [==============================] - 0s 632us/step - loss: 0.3697 - accuracy: 0.8887\n",
      "1875/1875 [==============================] - 2s 831us/step - loss: 0.1680 - accuracy: 0.9373\n",
      "313/313 [==============================] - 0s 616us/step - loss: 0.3640 - accuracy: 0.8845\n",
      "1875/1875 [==============================] - 2s 822us/step - loss: 0.1649 - accuracy: 0.9383\n",
      "313/313 [==============================] - 0s 626us/step - loss: 0.3903 - accuracy: 0.8810\n",
      "1875/1875 [==============================] - 2s 819us/step - loss: 0.1595 - accuracy: 0.9392\n",
      "313/313 [==============================] - 0s 632us/step - loss: 0.3738 - accuracy: 0.8864\n",
      "1875/1875 [==============================] - 2s 822us/step - loss: 0.1562 - accuracy: 0.9418\n",
      "313/313 [==============================] - 0s 619us/step - loss: 0.4083 - accuracy: 0.8844\n",
      "1875/1875 [==============================] - 2s 827us/step - loss: 0.1529 - accuracy: 0.9413\n",
      "313/313 [==============================] - 0s 638us/step - loss: 0.3840 - accuracy: 0.8874\n",
      "1875/1875 [==============================] - 2s 831us/step - loss: 0.1482 - accuracy: 0.9445\n",
      "313/313 [==============================] - 0s 629us/step - loss: 0.4055 - accuracy: 0.8887\n",
      "1875/1875 [==============================] - 2s 867us/step - loss: 0.1463 - accuracy: 0.9449\n",
      "313/313 [==============================] - 0s 638us/step - loss: 0.4053 - accuracy: 0.8837\n",
      "1875/1875 [==============================] - 2s 836us/step - loss: 0.1431 - accuracy: 0.9459\n",
      "313/313 [==============================] - 0s 632us/step - loss: 0.4246 - accuracy: 0.8801\n",
      "1875/1875 [==============================] - 2s 813us/step - loss: 0.1408 - accuracy: 0.9478\n",
      "313/313 [==============================] - 0s 616us/step - loss: 0.4125 - accuracy: 0.8888\n",
      "1875/1875 [==============================] - 2s 813us/step - loss: 0.1364 - accuracy: 0.9498\n",
      "313/313 [==============================] - 0s 622us/step - loss: 0.4407 - accuracy: 0.8828\n",
      "1875/1875 [==============================] - 2s 824us/step - loss: 0.1331 - accuracy: 0.9505\n",
      "313/313 [==============================] - 0s 619us/step - loss: 0.4325 - accuracy: 0.8843\n",
      "1875/1875 [==============================] - 2s 814us/step - loss: 0.1334 - accuracy: 0.9498\n",
      "313/313 [==============================] - 0s 619us/step - loss: 0.4401 - accuracy: 0.8806\n",
      "1875/1875 [==============================] - 2s 821us/step - loss: 0.1289 - accuracy: 0.9516\n",
      "313/313 [==============================] - 0s 619us/step - loss: 0.4490 - accuracy: 0.8799\n",
      "1875/1875 [==============================] - 2s 829us/step - loss: 0.1253 - accuracy: 0.9528\n",
      "313/313 [==============================] - 0s 619us/step - loss: 0.4512 - accuracy: 0.8864\n",
      "1875/1875 [==============================] - 2s 820us/step - loss: 0.1240 - accuracy: 0.9528\n",
      "313/313 [==============================] - 0s 619us/step - loss: 0.4552 - accuracy: 0.8805\n",
      "1875/1875 [==============================] - 2s 823us/step - loss: 0.1215 - accuracy: 0.9550\n",
      "313/313 [==============================] - 0s 613us/step - loss: 0.4672 - accuracy: 0.8792\n",
      "1875/1875 [==============================] - 2s 823us/step - loss: 0.1216 - accuracy: 0.9538\n",
      "313/313 [==============================] - 0s 616us/step - loss: 0.4628 - accuracy: 0.8860\n",
      "1875/1875 [==============================] - 2s 855us/step - loss: 0.1169 - accuracy: 0.9555\n",
      "313/313 [==============================] - 0s 619us/step - loss: 0.4483 - accuracy: 0.8893\n",
      "1875/1875 [==============================] - 2s 814us/step - loss: 0.1134 - accuracy: 0.9584\n",
      "313/313 [==============================] - 0s 619us/step - loss: 0.4668 - accuracy: 0.8834\n",
      "1875/1875 [==============================] - 2s 821us/step - loss: 0.1138 - accuracy: 0.9574\n",
      "313/313 [==============================] - 0s 629us/step - loss: 0.4558 - accuracy: 0.8897\n",
      "1875/1875 [==============================] - 2s 827us/step - loss: 0.1104 - accuracy: 0.9584\n",
      "313/313 [==============================] - 0s 619us/step - loss: 0.4909 - accuracy: 0.8825\n",
      "1875/1875 [==============================] - 2s 828us/step - loss: 0.1088 - accuracy: 0.9594\n",
      "313/313 [==============================] - 0s 632us/step - loss: 0.4647 - accuracy: 0.8848\n",
      "1875/1875 [==============================] - 2s 828us/step - loss: 0.1053 - accuracy: 0.9603\n",
      "313/313 [==============================] - 0s 626us/step - loss: 0.5266 - accuracy: 0.8801\n",
      "1875/1875 [==============================] - 2s 819us/step - loss: 0.1062 - accuracy: 0.9601\n",
      "313/313 [==============================] - 0s 619us/step - loss: 0.5133 - accuracy: 0.8859\n",
      "1875/1875 [==============================] - 2s 813us/step - loss: 0.1046 - accuracy: 0.9608\n",
      "313/313 [==============================] - 0s 610us/step - loss: 0.5103 - accuracy: 0.8845\n",
      "1875/1875 [==============================] - 2s 816us/step - loss: 0.0988 - accuracy: 0.9624\n",
      "313/313 [==============================] - 0s 618us/step - loss: 0.5009 - accuracy: 0.8844\n",
      "1875/1875 [==============================] - 2s 813us/step - loss: 0.1027 - accuracy: 0.9614\n",
      "313/313 [==============================] - 0s 616us/step - loss: 0.5365 - accuracy: 0.8883\n",
      "1875/1875 [==============================] - 2s 821us/step - loss: 0.0956 - accuracy: 0.9639\n",
      "313/313 [==============================] - 0s 622us/step - loss: 0.5237 - accuracy: 0.8884\n",
      "1875/1875 [==============================] - 2s 864us/step - loss: 0.0963 - accuracy: 0.9640\n",
      "313/313 [==============================] - 0s 629us/step - loss: 0.5496 - accuracy: 0.8848\n",
      "1875/1875 [==============================] - 2s 823us/step - loss: 0.0959 - accuracy: 0.9643\n",
      "313/313 [==============================] - 0s 629us/step - loss: 0.5394 - accuracy: 0.8851\n",
      "1875/1875 [==============================] - 2s 818us/step - loss: 0.0944 - accuracy: 0.9648\n",
      "313/313 [==============================] - 0s 626us/step - loss: 0.5077 - accuracy: 0.8859\n",
      "1875/1875 [==============================] - 2s 821us/step - loss: 0.0901 - accuracy: 0.9662\n",
      "313/313 [==============================] - 0s 616us/step - loss: 0.5420 - accuracy: 0.8758\n",
      "1875/1875 [==============================] - 2s 852us/step - loss: 0.0921 - accuracy: 0.9660\n",
      "313/313 [==============================] - 0s 613us/step - loss: 0.5576 - accuracy: 0.8777\n",
      "1875/1875 [==============================] - 2s 817us/step - loss: 0.0901 - accuracy: 0.9659\n",
      "313/313 [==============================] - 0s 619us/step - loss: 0.5811 - accuracy: 0.8833\n",
      "1875/1875 [==============================] - 2s 833us/step - loss: 0.0889 - accuracy: 0.9664\n",
      "313/313 [==============================] - 0s 619us/step - loss: 0.5670 - accuracy: 0.8815\n",
      "1875/1875 [==============================] - 2s 828us/step - loss: 0.0885 - accuracy: 0.9667\n",
      "313/313 [==============================] - 0s 629us/step - loss: 0.5743 - accuracy: 0.8822\n",
      "1875/1875 [==============================] - 2s 828us/step - loss: 0.0871 - accuracy: 0.9673\n",
      "313/313 [==============================] - 0s 638us/step - loss: 0.5498 - accuracy: 0.8855\n",
      "1875/1875 [==============================] - 2s 823us/step - loss: 0.0848 - accuracy: 0.9677\n",
      "313/313 [==============================] - 0s 635us/step - loss: 0.5569 - accuracy: 0.8866\n",
      "1875/1875 [==============================] - 2s 854us/step - loss: 0.0834 - accuracy: 0.9695\n",
      "313/313 [==============================] - 0s 629us/step - loss: 0.5890 - accuracy: 0.8853\n",
      "1875/1875 [==============================] - 2s 818us/step - loss: 0.0829 - accuracy: 0.9686\n",
      "313/313 [==============================] - 0s 613us/step - loss: 0.6395 - accuracy: 0.8808\n",
      "1875/1875 [==============================] - 2s 814us/step - loss: 0.0804 - accuracy: 0.9699\n",
      "313/313 [==============================] - 0s 619us/step - loss: 0.6056 - accuracy: 0.8853\n",
      "1875/1875 [==============================] - 2s 818us/step - loss: 0.0815 - accuracy: 0.9698\n",
      "313/313 [==============================] - 0s 619us/step - loss: 0.5682 - accuracy: 0.8889\n",
      "1875/1875 [==============================] - 2s 819us/step - loss: 0.0798 - accuracy: 0.9698\n",
      "313/313 [==============================] - 0s 622us/step - loss: 0.5972 - accuracy: 0.8853\n",
      "1875/1875 [==============================] - 2s 821us/step - loss: 0.0756 - accuracy: 0.9722\n",
      "313/313 [==============================] - 0s 622us/step - loss: 0.6088 - accuracy: 0.8824\n",
      "1875/1875 [==============================] - 2s 828us/step - loss: 0.0773 - accuracy: 0.9711\n",
      "313/313 [==============================] - 0s 632us/step - loss: 0.6265 - accuracy: 0.8859\n",
      "1875/1875 [==============================] - 2s 821us/step - loss: 0.0763 - accuracy: 0.9712\n",
      "313/313 [==============================] - 0s 619us/step - loss: 0.6051 - accuracy: 0.8891\n",
      "1875/1875 [==============================] - 2s 822us/step - loss: 0.0749 - accuracy: 0.9720\n",
      "313/313 [==============================] - 0s 613us/step - loss: 0.6601 - accuracy: 0.8822\n",
      "1875/1875 [==============================] - 2s 817us/step - loss: 0.0736 - accuracy: 0.9725\n",
      "313/313 [==============================] - 0s 622us/step - loss: 0.6232 - accuracy: 0.8854\n",
      "1875/1875 [==============================] - 2s 819us/step - loss: 0.0735 - accuracy: 0.9721\n",
      "313/313 [==============================] - 0s 616us/step - loss: 0.6139 - accuracy: 0.8855\n",
      "1875/1875 [==============================] - 2s 814us/step - loss: 0.0721 - accuracy: 0.9734\n",
      "313/313 [==============================] - 0s 616us/step - loss: 0.6371 - accuracy: 0.8861\n",
      "1875/1875 [==============================] - 2s 819us/step - loss: 0.0715 - accuracy: 0.9732\n",
      "313/313 [==============================] - 0s 619us/step - loss: 0.6462 - accuracy: 0.8822\n",
      "1875/1875 [==============================] - 2s 822us/step - loss: 0.0695 - accuracy: 0.9739\n",
      "313/313 [==============================] - 0s 621us/step - loss: 0.6408 - accuracy: 0.8859\n",
      "1875/1875 [==============================] - 2s 825us/step - loss: 0.0704 - accuracy: 0.9738\n",
      "313/313 [==============================] - 0s 629us/step - loss: 0.6671 - accuracy: 0.8836\n",
      "1875/1875 [==============================] - 2s 856us/step - loss: 0.0669 - accuracy: 0.9742\n",
      "313/313 [==============================] - 0s 616us/step - loss: 0.6935 - accuracy: 0.8832\n",
      "1875/1875 [==============================] - 2s 819us/step - loss: 0.0677 - accuracy: 0.9747\n",
      "313/313 [==============================] - 0s 618us/step - loss: 0.6704 - accuracy: 0.8852\n",
      "1875/1875 [==============================] - 2s 819us/step - loss: 0.0648 - accuracy: 0.9758\n",
      "313/313 [==============================] - 0s 613us/step - loss: 0.6553 - accuracy: 0.8866\n",
      "1875/1875 [==============================] - 2s 812us/step - loss: 0.0678 - accuracy: 0.9746\n",
      "313/313 [==============================] - 0s 622us/step - loss: 0.7260 - accuracy: 0.8783\n",
      "1875/1875 [==============================] - 2s 818us/step - loss: 0.0656 - accuracy: 0.9754\n",
      "313/313 [==============================] - 0s 613us/step - loss: 0.7089 - accuracy: 0.8832\n",
      "1875/1875 [==============================] - 2s 820us/step - loss: 0.0667 - accuracy: 0.9750\n",
      "313/313 [==============================] - 0s 622us/step - loss: 0.6923 - accuracy: 0.8841\n",
      "1875/1875 [==============================] - 2s 827us/step - loss: 0.0657 - accuracy: 0.9754\n",
      "313/313 [==============================] - 0s 626us/step - loss: 0.6950 - accuracy: 0.8841\n",
      "1875/1875 [==============================] - 2s 837us/step - loss: 0.0641 - accuracy: 0.9759\n",
      "313/313 [==============================] - 0s 626us/step - loss: 0.7016 - accuracy: 0.8875\n",
      "1875/1875 [==============================] - 2s 825us/step - loss: 0.0619 - accuracy: 0.9769\n",
      "313/313 [==============================] - 0s 651us/step - loss: 0.7041 - accuracy: 0.8827\n",
      "1875/1875 [==============================] - 2s 818us/step - loss: 0.0633 - accuracy: 0.9767\n",
      "313/313 [==============================] - 0s 619us/step - loss: 0.7614 - accuracy: 0.8778\n",
      "1875/1875 [==============================] - 2s 813us/step - loss: 0.0615 - accuracy: 0.9774\n",
      "313/313 [==============================] - 0s 614us/step - loss: 0.7112 - accuracy: 0.8848\n",
      "1875/1875 [==============================] - 2s 817us/step - loss: 0.0577 - accuracy: 0.9786\n",
      "313/313 [==============================] - 0s 616us/step - loss: 0.7077 - accuracy: 0.8827\n",
      "1875/1875 [==============================] - 2s 837us/step - loss: 0.0624 - accuracy: 0.9765\n",
      "313/313 [==============================] - 0s 632us/step - loss: 0.7590 - accuracy: 0.8775\n",
      "1875/1875 [==============================] - 2s 838us/step - loss: 0.0598 - accuracy: 0.9777\n",
      "313/313 [==============================] - 0s 629us/step - loss: 0.7296 - accuracy: 0.8857\n",
      "1875/1875 [==============================] - 2s 823us/step - loss: 0.0595 - accuracy: 0.9781\n",
      "313/313 [==============================] - 0s 629us/step - loss: 0.7484 - accuracy: 0.8795\n",
      "1875/1875 [==============================] - 2s 825us/step - loss: 0.0587 - accuracy: 0.9783\n",
      "313/313 [==============================] - 0s 626us/step - loss: 0.7200 - accuracy: 0.8838\n",
      "1875/1875 [==============================] - 2s 855us/step - loss: 0.0580 - accuracy: 0.9788\n",
      "313/313 [==============================] - 0s 626us/step - loss: 0.7396 - accuracy: 0.8812\n",
      "1875/1875 [==============================] - 2s 817us/step - loss: 0.0560 - accuracy: 0.9794\n",
      "313/313 [==============================] - 0s 622us/step - loss: 0.7612 - accuracy: 0.8827\n",
      "1875/1875 [==============================] - 2s 825us/step - loss: 0.0557 - accuracy: 0.9800\n",
      "313/313 [==============================] - 0s 619us/step - loss: 0.7465 - accuracy: 0.8855\n",
      "1875/1875 [==============================] - 2s 814us/step - loss: 0.0520 - accuracy: 0.9807\n",
      "313/313 [==============================] - 0s 613us/step - loss: 0.7544 - accuracy: 0.8842\n",
      "1875/1875 [==============================] - 2s 823us/step - loss: 0.0560 - accuracy: 0.9787\n",
      "313/313 [==============================] - 0s 629us/step - loss: 0.7954 - accuracy: 0.8825\n",
      "1875/1875 [==============================] - 2s 825us/step - loss: 0.0553 - accuracy: 0.9789\n",
      "313/313 [==============================] - 0s 626us/step - loss: 0.8286 - accuracy: 0.8848\n",
      "1875/1875 [==============================] - 2s 829us/step - loss: 0.0529 - accuracy: 0.9806\n",
      "313/313 [==============================] - 0s 626us/step - loss: 0.7894 - accuracy: 0.8830\n",
      "1875/1875 [==============================] - 2s 822us/step - loss: 0.0548 - accuracy: 0.9800\n",
      "313/313 [==============================] - 0s 619us/step - loss: 0.7961 - accuracy: 0.8799\n",
      "1875/1875 [==============================] - 2s 817us/step - loss: 0.0513 - accuracy: 0.9804\n",
      "313/313 [==============================] - 0s 610us/step - loss: 0.8059 - accuracy: 0.8870\n"
     ]
    }
   ],
   "source": [
    "accuracies = []\n",
    "for i in range(100):\n",
    "    model.fit(train_images, train_labels, epochs=1)\n",
    "    test_loss, test_acc = model.evaluate(test_images, test_labels, verbose=1)\n",
    "    accuracies.append(test_acc)\n"
   ]
  },
  {
   "cell_type": "code",
   "execution_count": 10,
   "metadata": {},
   "outputs": [
    {
     "data": {
      "text/plain": [
       "[<matplotlib.lines.Line2D at 0x17d35d00c90>]"
      ]
     },
     "execution_count": 10,
     "metadata": {},
     "output_type": "execute_result"
    },
    {
     "data": {
      "image/png": "[encoded data removed]",
      "text/plain": [
       "<Figure size 640x480 with 1 Axes>"
      ]
     },
     "metadata": {},
     "output_type": "display_data"
    }
   ],
   "source": [
    "plt.plot(accuracies)"
   ]
  },
  {
   "cell_type": "code",
   "execution_count": 16,
   "metadata": {},
   "outputs": [
    {
     "name": "stdout",
     "output_type": "stream",
     "text": [
      "313/313 [==============================] - 0s 577us/step\n"
     ]
    },
    {
     "data": {
      "text/plain": [
       "array([3.4490712e-32, 0.0000000e+00, 2.5972454e-25, 0.0000000e+00,\n",
       "       2.3743107e-32, 8.0054197e-10, 4.5875016e-28, 1.3192924e-12,\n",
       "       4.7913324e-27, 1.0000000e+00], dtype=float32)"
      ]
     },
     "execution_count": 16,
     "metadata": {},
     "output_type": "execute_result"
    }
   ],
   "source": [
    "# making predictions\n",
    "predictions = model.predict(test_images)\n",
    "# needs to be in an array because model is better at predicting a bunch of things at once\n",
    "predictions[0] # prediction for 1st image"
   ]
  },
  {
   "cell_type": "code",
   "execution_count": 23,
   "metadata": {},
   "outputs": [
    {
     "data": {
      "text/plain": [
       "'Ankle boot'"
      ]
     },
     "execution_count": 23,
     "metadata": {},
     "output_type": "execute_result"
    }
   ],
   "source": [
    "class_names[np.argmax(predictions[0])]"
   ]
  },
  {
   "cell_type": "code",
   "execution_count": 24,
   "metadata": {},
   "outputs": [
    {
     "data": {
      "image/png": "[encoded data removed]",
      "text/plain": [
       "<Figure size 640x480 with 2 Axes>"
      ]
     },
     "metadata": {},
     "output_type": "display_data"
    }
   ],
   "source": [
    "plt.figure()\n",
    "plt.imshow(test_images[0])\n",
    "plt.gray()\n",
    "plt.colorbar()\n",
    "plt.grid(False)\n",
    "plt.show()"
   ]
  },
  {
   "cell_type": "markdown",
   "metadata": {},
   "source": [
    "well that sure does look like an ankle boot"
   ]
  },
  {
   "cell_type": "code",
   "execution_count": null,
   "metadata": {},
   "outputs": [],
   "source": []
  }
 ],
 "metadata": {
  "kernelspec": {
   "display_name": "Python 3",
   "language": "python",
   "name": "python3"
  },
  "language_info": {
   "codemirror_mode": {
    "name": "ipython",
    "version": 3
   },
   "file_extension": ".py",
   "mimetype": "text/x-python",
   "name": "python",
   "nbconvert_exporter": "python",
   "pygments_lexer": "ipython3",
   "version": "3.11.7"
  }
 },
 "nbformat": 4,
 "nbformat_minor": 2
}
