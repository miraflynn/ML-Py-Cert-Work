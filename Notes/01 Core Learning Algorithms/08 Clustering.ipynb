{
 "cells": [
  {
   "cell_type": "markdown",
   "metadata": {},
   "source": [
    "## Clustering\n",
    "- first unsupervised learning model\n",
    "- only works for specific types of problems\n",
    "- used when you have a bunch of input features but no labels/output info\n",
    "- finds clusters of like datapoints and tells you location\n",
    "- steps:\n",
    "    1. randomly pick k points to place k centroids\n",
    "    2. assign all of the data points to the centroids by distance\n",
    "    3. Average all of the point locations belonging to each centroid to find the middle of those clusters, place the corresponding centroids into that position\n",
    "    4. repeat steps 2-3 until no point changes which centroid it belongs to"
   ]
  }
 ],
 "metadata": {
  "language_info": {
   "name": "python"
  }
 },
 "nbformat": 4,
 "nbformat_minor": 2
}
