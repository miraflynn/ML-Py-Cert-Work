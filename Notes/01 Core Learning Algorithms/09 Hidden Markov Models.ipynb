{
 "cells": [
  {
   "cell_type": "markdown",
   "metadata": {},
   "source": [
    "## Hidden Markov Models\n",
    "- have been using models that rely heavily on data\n",
    "- hidden markovs use probability distributions\n",
    "- ex. weather model, predict weather on a given day given the probability of different events occuring\n",
    "    - if sunny, 80% chance that next will be sunny\n",
    "- how do we know probability of event? Sometimes calculated from dataset\n",
    "    - not gonna go into that, gonna use predefined probability distributions\n",
    "- Formal definition: \"A Hidden Markov Model is a finite set of states, each of which is associated with a (generally multidimensional) probability distribution p. Transitions among the states are governed by a set of probabilities called transition probabilities\"\n",
    "- weather model states can be hot day and cold day\n",
    "    - hidden because we never actually access/look at the states while we interact with the model, instead look at observations\n",
    "    - observation example: If it is hot outside, Tim has an 80% chance of being happy, if cold, then 20% chance of being happy\n",
    "    - probability we can use: on a sunny day, the prob of between 5-15 deg celsius with an average of 11 degrees\n",
    "\n",
    "### Data we use\n",
    "- constant values for transition distributions and observation distributions\n",
    "- States: in each markov model, we have a finite set of states.\n",
    "- Observations: each state has a particular outcome or observation associated with it based on a probability distribution\n",
    "- Transitions: each state will have a probability defining the likelihood of transitioning to a different state\n",
    "- To make a hidden markov model we need States, Observation Distribution, and Transition Distribution"
   ]
  },
  {
   "cell_type": "code",
   "execution_count": 1,
   "metadata": {},
   "outputs": [
    {
     "name": "stdout",
     "output_type": "stream",
     "text": [
      "WARNING:tensorflow:From c:\\Users\\miraf\\AppData\\Local\\Programs\\Python\\Python311\\Lib\\site-packages\\keras\\src\\losses.py:2976: The name tf.losses.sparse_softmax_cross_entropy is deprecated. Please use tf.compat.v1.losses.sparse_softmax_cross_entropy instead.\n",
      "\n"
     ]
    }
   ],
   "source": [
    "import tensorflow_probability as tfp\n",
    "import tensorflow as tf"
   ]
  }
 ],
 "metadata": {
  "kernelspec": {
   "display_name": "Python 3",
   "language": "python",
   "name": "python3"
  },
  "language_info": {
   "codemirror_mode": {
    "name": "ipython",
    "version": 3
   },
   "file_extension": ".py",
   "mimetype": "text/x-python",
   "name": "python",
   "nbconvert_exporter": "python",
   "pygments_lexer": "ipython3",
   "version": "3.11.7"
  }
 },
 "nbformat": 4,
 "nbformat_minor": 2
}
