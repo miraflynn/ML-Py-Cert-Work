{
 "cells": [
  {
   "cell_type": "code",
   "execution_count": 10,
   "metadata": {},
   "outputs": [],
   "source": [
    "import tensorflow_probability as tfp\n",
    "import tensorflow as tf"
   ]
  },
  {
   "cell_type": "markdown",
   "metadata": {},
   "source": [
    "Weather rules:\n",
    "1. cold days are 0, hot are 1\n",
    "2. first day in sequence has 80% chance of being cold\n",
    "3. cold day has a 30% chance of being followed by hot day\n",
    "4. hot day has 20% chance of being followed by cold day\n",
    "5. each day the temperature is normally distributed with mean and standard devation 0 and 5 for cold days, 15 and 10 for hot days"
   ]
  },
  {
   "cell_type": "code",
   "execution_count": 11,
   "metadata": {},
   "outputs": [],
   "source": [
    "tfd = tfp.distributions # shortcut for later\n",
    "initial_distribution = tfd.Categorical(probs=[0.8,0.2]) # see rule 2\n",
    "transition_distribution = tfd.Categorical(probs=[[0.7,0.3], [0.2,0.8]]) # see rules 3 and 4\n",
    "observation_distribution = tfd.Normal(loc=[0.,15.], scale=[5.,10.]) # see rule 5\n",
    "# loc is mean and scale is sd"
   ]
  },
  {
   "cell_type": "code",
   "execution_count": 12,
   "metadata": {},
   "outputs": [],
   "source": [
    "model = tfd.HiddenMarkovModel(initial_distribution,transition_distribution,observation_distribution,num_steps=7)"
   ]
  },
  {
   "cell_type": "code",
   "execution_count": 13,
   "metadata": {},
   "outputs": [
    {
     "data": {
      "text/plain": [
       "<tf.Tensor: shape=(7,), dtype=float32, numpy=\n",
       "array([3.       , 5.9999995, 7.4999995, 8.25     , 8.625001 , 8.812501 ,\n",
       "       8.90625  ], dtype=float32)>"
      ]
     },
     "execution_count": 13,
     "metadata": {},
     "output_type": "execute_result"
    }
   ],
   "source": [
    "# to get the expected temperatures on each day we can do:\n",
    "mean = model.mean()\n",
    "mean"
   ]
  },
  {
   "cell_type": "code",
   "execution_count": 14,
   "metadata": {},
   "outputs": [
    {
     "name": "stdout",
     "output_type": "stream",
     "text": [
      "[3.        5.9999995 7.4999995 8.25      8.625001  8.812501  8.90625  ]\n"
     ]
    }
   ],
   "source": [
    "# due to way tensorflow works on a loer level we need to evaluate part of the graph from within a session to see the value of this tensor\n",
    "\n",
    "with tf.compat.v1.Session() as sess:\n",
    "    print(mean.numpy())"
   ]
  }
 ],
 "metadata": {
  "kernelspec": {
   "display_name": "Python 3",
   "language": "python",
   "name": "python3"
  },
  "language_info": {
   "codemirror_mode": {
    "name": "ipython",
    "version": 3
   },
   "file_extension": ".py",
   "mimetype": "text/x-python",
   "name": "python",
   "nbconvert_exporter": "python",
   "pygments_lexer": "ipython3",
   "version": "3.11.7"
  }
 },
 "nbformat": 4,
 "nbformat_minor": 2
}
