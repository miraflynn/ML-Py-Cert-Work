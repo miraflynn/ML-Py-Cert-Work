{
 "cells": [
  {
   "cell_type": "code",
   "execution_count": 1,
   "metadata": {},
   "outputs": [
    {
     "name": "stdout",
     "output_type": "stream",
     "text": [
      "WARNING:tensorflow:From c:\\Users\\miraf\\AppData\\Local\\Programs\\Python\\Python311\\Lib\\site-packages\\keras\\src\\losses.py:2976: The name tf.losses.sparse_softmax_cross_entropy is deprecated. Please use tf.compat.v1.losses.sparse_softmax_cross_entropy instead.\n",
      "\n",
      "WARNING:tensorflow:From C:\\Users\\miraf\\AppData\\Local\\Temp\\ipykernel_32684\\383524432.py:27: numeric_column (from tensorflow.python.feature_column.feature_column_v2) is deprecated and will be removed in a future version.\n",
      "Instructions for updating:\n",
      "Use Keras preprocessing layers instead, either directly or via the `tf.keras.utils.FeatureSpace` utility. Each of `tf.feature_column.*` has a functional equivalent in `tf.keras.layers` for feature preprocessing when training a Keras model.\n"
     ]
    }
   ],
   "source": [
    "# %tensorflow_version 2.x\n",
    "from __future__ import absolute_import, division, print_function, unicode_literals\n",
    "\n",
    "import pandas as pd\n",
    "import tensorflow as tf\n",
    "\n",
    "CSV_COLUMN_NAMES = ['SepalLength', 'SepalWidth', 'PetalLength', 'PetalWidth', 'Species']\n",
    "SPECIES = ['Setosa', 'Versicolor', 'Virginica']\n",
    "\n",
    "train_path = tf.keras.utils.get_file(\"iris_training.csv\", \"https://storage.googleapis.com/download.tensorflow.org/data/iris_training.csv\")\n",
    "test_path = tf.keras.utils.get_file(\"iris_test.csv\", \"https://storage.googleapis.com/download.tensorflow.org/data/iris_test.csv\")\n",
    "\n",
    "train = pd.read_csv(train_path, names=CSV_COLUMN_NAMES, header=0)\n",
    "test = pd.read_csv(test_path, names=CSV_COLUMN_NAMES, header=0)\n",
    "\n",
    "train_y = train.pop('Species')\n",
    "test_y = test.pop('Species')\n",
    "\n",
    "def input_fn(features, labels, training=True, batch_size=256):\n",
    "    ds = tf.data.Dataset.from_tensor_slices((dict(features), labels)) # create tf.data.Dataset object with data and its labels\n",
    "    if training:\n",
    "        ds = ds.shuffle(1000).repeat() # shuffle and repeat if in training mode\n",
    "    return ds.batch(batch_size)\n",
    "\n",
    "my_feature_columns = []\n",
    "for key in train.keys(): # every column name in train dataset\n",
    "    my_feature_columns.append(tf.feature_column.numeric_column(key))\n"
   ]
  },
  {
   "cell_type": "markdown",
   "metadata": {},
   "source": [
    "## Building the model\n",
    "- Many options for different estimators we can use, including DNNClassifier (Deep Neural Network) and LinearClassifier\n",
    "    - LinearClassifier is similar to linear regression, but with probability of each classification instead of a numeric value\n",
    "- Gonna use DNNClassifier because there's not necessarily a linear relationship in the data (given, not proven)"
   ]
  },
  {
   "cell_type": "code",
   "execution_count": 2,
   "metadata": {},
   "outputs": [
    {
     "name": "stdout",
     "output_type": "stream",
     "text": [
      "WARNING:tensorflow:From c:\\Users\\miraf\\AppData\\Local\\Programs\\Python\\Python311\\Lib\\site-packages\\tensorflow_estimator\\python\\estimator\\util.py:74: The name tf.train.SessionRunHook is deprecated. Please use tf.estimator.SessionRunHook instead.\n",
      "\n",
      "WARNING:tensorflow:From C:\\Users\\miraf\\AppData\\Local\\Temp\\ipykernel_32684\\3058566155.py:1: DNNClassifierV2.__init__ (from tensorflow_estimator.python.estimator.canned.dnn) is deprecated and will be removed in a future version.\n",
      "Instructions for updating:\n",
      "Use tf.keras instead.\n",
      "WARNING:tensorflow:From c:\\Users\\miraf\\AppData\\Local\\Programs\\Python\\Python311\\Lib\\site-packages\\tensorflow_estimator\\python\\estimator\\head\\head_utils.py:59: MultiClassHead.__init__ (from tensorflow_estimator.python.estimator.head.multi_class_head) is deprecated and will be removed in a future version.\n",
      "Instructions for updating:\n",
      "Use tf.keras instead.\n",
      "WARNING:tensorflow:From c:\\Users\\miraf\\AppData\\Local\\Programs\\Python\\Python311\\Lib\\site-packages\\tensorflow_estimator\\python\\estimator\\head\\base_head.py:696: The name tf.debugging.assert_greater is deprecated. Please use tf.compat.v1.debugging.assert_greater instead.\n",
      "\n",
      "WARNING:tensorflow:From c:\\Users\\miraf\\AppData\\Local\\Programs\\Python\\Python311\\Lib\\site-packages\\tensorflow_estimator\\python\\estimator\\canned\\dnn.py:759: Estimator.__init__ (from tensorflow_estimator.python.estimator.estimator) is deprecated and will be removed in a future version.\n",
      "Instructions for updating:\n",
      "Use tf.keras instead.\n",
      "WARNING:tensorflow:From c:\\Users\\miraf\\AppData\\Local\\Programs\\Python\\Python311\\Lib\\site-packages\\tensorflow_estimator\\python\\estimator\\estimator.py:1844: RunConfig.__init__ (from tensorflow_estimator.python.estimator.run_config) is deprecated and will be removed in a future version.\n",
      "Instructions for updating:\n",
      "Use tf.keras instead.\n",
      "WARNING:tensorflow:From c:\\Users\\miraf\\AppData\\Local\\Programs\\Python\\Python311\\Lib\\site-packages\\tensorflow_estimator\\python\\estimator\\estimator.py:1845: The name tf.logging.info is deprecated. Please use tf.compat.v1.logging.info instead.\n",
      "\n",
      "INFO:tensorflow:Using default config.\n",
      "WARNING:tensorflow:From c:\\Users\\miraf\\AppData\\Local\\Programs\\Python\\Python311\\Lib\\site-packages\\tensorflow_estimator\\python\\estimator\\run_config.py:329: The name tf.GraphOptions is deprecated. Please use tf.compat.v1.GraphOptions instead.\n",
      "\n",
      "WARNING:tensorflow:Using temporary folder as model directory: C:\\Users\\miraf\\AppData\\Local\\Temp\\tmp258cuhlh\n",
      "INFO:tensorflow:Using config: {'_model_dir': 'C:\\\\Users\\\\miraf\\\\AppData\\\\Local\\\\Temp\\\\tmp258cuhlh', '_tf_random_seed': None, '_save_summary_steps': 100, '_save_checkpoints_steps': None, '_save_checkpoints_secs': 600, '_session_config': allow_soft_placement: true\n",
      "graph_options {\n",
      "  rewrite_options {\n",
      "    meta_optimizer_iterations: ONE\n",
      "  }\n",
      "}\n",
      ", '_keep_checkpoint_max': 5, '_keep_checkpoint_every_n_hours': 10000, '_log_step_count_steps': 100, '_train_distribute': None, '_device_fn': None, '_protocol': None, '_eval_distribute': None, '_experimental_distribute': None, '_experimental_max_worker_delay_secs': None, '_session_creation_timeout_secs': 7200, '_checkpoint_save_graph_def': True, '_service': None, '_cluster_spec': ClusterSpec({}), '_task_type': 'worker', '_task_id': 0, '_global_id_in_cluster': 0, '_master': '', '_evaluation_master': '', '_is_chief': True, '_num_ps_replicas': 0, '_num_worker_replicas': 1}\n"
     ]
    }
   ],
   "source": [
    "classifier = tf.estimator.DNNClassifier(\n",
    "    feature_columns=my_feature_columns,\n",
    "    hidden_units=[30,10], # two hidden layers of 30 and 10 nodes respectively\n",
    "    # Decided arbitrarily, we'll learn about that later\n",
    "    n_classes=3 # 3 classes to choose between\n",
    ")"
   ]
  },
  {
   "cell_type": "markdown",
   "metadata": {},
   "source": [
    "### Training the model"
   ]
  },
  {
   "cell_type": "code",
   "execution_count": 3,
   "metadata": {},
   "outputs": [
    {
     "name": "stdout",
     "output_type": "stream",
     "text": [
      "WARNING:tensorflow:From c:\\Users\\miraf\\AppData\\Local\\Programs\\Python\\Python311\\Lib\\site-packages\\tensorflow_estimator\\python\\estimator\\estimator.py:385: StopAtStepHook.__init__ (from tensorflow.python.training.basic_session_run_hooks) is deprecated and will be removed in a future version.\n",
      "Instructions for updating:\n",
      "Use tf.keras instead.\n",
      "WARNING:tensorflow:From c:\\Users\\miraf\\AppData\\Local\\Programs\\Python\\Python311\\Lib\\site-packages\\tensorflow_estimator\\python\\estimator\\estimator.py:1205: The name tf.random.set_random_seed is deprecated. Please use tf.compat.v1.random.set_random_seed instead.\n",
      "\n",
      "WARNING:tensorflow:From c:\\Users\\miraf\\AppData\\Local\\Programs\\Python\\Python311\\Lib\\site-packages\\tensorflow_estimator\\python\\estimator\\util.py:58: The name tf.data.make_initializable_iterator is deprecated. Please use tf.compat.v1.data.make_initializable_iterator instead.\n",
      "\n",
      "INFO:tensorflow:Calling model_fn.\n",
      "WARNING:tensorflow:From c:\\Users\\miraf\\AppData\\Local\\Programs\\Python\\Python311\\Lib\\site-packages\\keras\\src\\utils\\version_utils.py:76: The name tf.executing_eagerly_outside_functions is deprecated. Please use tf.compat.v1.executing_eagerly_outside_functions instead.\n",
      "\n",
      "WARNING:tensorflow:From c:\\Users\\miraf\\AppData\\Local\\Programs\\Python\\Python311\\Lib\\site-packages\\tensorflow\\python\\autograph\\converters\\directives.py:126: The name tf.summary.scalar is deprecated. Please use tf.compat.v1.summary.scalar instead.\n",
      "\n",
      "WARNING:tensorflow:From c:\\Users\\miraf\\AppData\\Local\\Programs\\Python\\Python311\\Lib\\site-packages\\keras\\src\\optimizers\\legacy\\adagrad.py:93: calling Constant.__init__ (from tensorflow.python.ops.init_ops) with dtype is deprecated and will be removed in a future version.\n",
      "Instructions for updating:\n",
      "Call initializer instance with the dtype argument instead of passing it to the constructor\n",
      "WARNING:tensorflow:From c:\\Users\\miraf\\AppData\\Local\\Programs\\Python\\Python311\\Lib\\site-packages\\tensorflow_estimator\\python\\estimator\\model_fn.py:250: EstimatorSpec.__new__ (from tensorflow_estimator.python.estimator.model_fn) is deprecated and will be removed in a future version.\n",
      "Instructions for updating:\n",
      "Use tf.keras instead.\n",
      "INFO:tensorflow:Done calling model_fn.\n",
      "WARNING:tensorflow:From c:\\Users\\miraf\\AppData\\Local\\Programs\\Python\\Python311\\Lib\\site-packages\\tensorflow_estimator\\python\\estimator\\estimator.py:1416: NanTensorHook.__init__ (from tensorflow.python.training.basic_session_run_hooks) is deprecated and will be removed in a future version.\n",
      "Instructions for updating:\n",
      "Use tf.keras instead.\n",
      "WARNING:tensorflow:From c:\\Users\\miraf\\AppData\\Local\\Programs\\Python\\Python311\\Lib\\site-packages\\tensorflow_estimator\\python\\estimator\\estimator.py:1419: LoggingTensorHook.__init__ (from tensorflow.python.training.basic_session_run_hooks) is deprecated and will be removed in a future version.\n",
      "Instructions for updating:\n",
      "Use tf.keras instead.\n",
      "WARNING:tensorflow:From c:\\Users\\miraf\\AppData\\Local\\Programs\\Python\\Python311\\Lib\\site-packages\\tensorflow\\python\\training\\basic_session_run_hooks.py:232: SecondOrStepTimer.__init__ (from tensorflow.python.training.basic_session_run_hooks) is deprecated and will be removed in a future version.\n",
      "Instructions for updating:\n",
      "Use tf.keras instead.\n",
      "WARNING:tensorflow:From c:\\Users\\miraf\\AppData\\Local\\Programs\\Python\\Python311\\Lib\\site-packages\\tensorflow_estimator\\python\\estimator\\estimator.py:1456: CheckpointSaverHook.__init__ (from tensorflow.python.training.basic_session_run_hooks) is deprecated and will be removed in a future version.\n",
      "Instructions for updating:\n",
      "Use tf.keras instead.\n",
      "INFO:tensorflow:Create CheckpointSaverHook.\n",
      "WARNING:tensorflow:From c:\\Users\\miraf\\AppData\\Local\\Programs\\Python\\Python311\\Lib\\site-packages\\tensorflow\\python\\training\\monitored_session.py:579: StepCounterHook.__init__ (from tensorflow.python.training.basic_session_run_hooks) is deprecated and will be removed in a future version.\n",
      "Instructions for updating:\n",
      "Use tf.keras instead.\n",
      "WARNING:tensorflow:From c:\\Users\\miraf\\AppData\\Local\\Programs\\Python\\Python311\\Lib\\site-packages\\tensorflow\\python\\training\\monitored_session.py:586: SummarySaverHook.__init__ (from tensorflow.python.training.basic_session_run_hooks) is deprecated and will be removed in a future version.\n",
      "Instructions for updating:\n",
      "Use tf.keras instead.\n",
      "INFO:tensorflow:Graph was finalized.\n",
      "INFO:tensorflow:Running local_init_op.\n",
      "INFO:tensorflow:Done running local_init_op.\n",
      "INFO:tensorflow:Calling checkpoint listeners before saving checkpoint 0...\n",
      "INFO:tensorflow:Saving checkpoints for 0 into C:\\Users\\miraf\\AppData\\Local\\Temp\\tmp258cuhlh\\model.ckpt.\n",
      "INFO:tensorflow:Calling checkpoint listeners after saving checkpoint 0...\n",
      "WARNING:tensorflow:From c:\\Users\\miraf\\AppData\\Local\\Programs\\Python\\Python311\\Lib\\site-packages\\tensorflow\\python\\training\\monitored_session.py:1455: SessionRunArgs.__new__ (from tensorflow.python.training.session_run_hook) is deprecated and will be removed in a future version.\n",
      "Instructions for updating:\n",
      "Use tf.keras instead.\n",
      "WARNING:tensorflow:From c:\\Users\\miraf\\AppData\\Local\\Programs\\Python\\Python311\\Lib\\site-packages\\tensorflow\\python\\training\\monitored_session.py:1454: SessionRunContext.__init__ (from tensorflow.python.training.session_run_hook) is deprecated and will be removed in a future version.\n",
      "Instructions for updating:\n",
      "Use tf.keras instead.\n",
      "WARNING:tensorflow:From c:\\Users\\miraf\\AppData\\Local\\Programs\\Python\\Python311\\Lib\\site-packages\\tensorflow\\python\\training\\monitored_session.py:1474: SessionRunValues.__new__ (from tensorflow.python.training.session_run_hook) is deprecated and will be removed in a future version.\n",
      "Instructions for updating:\n",
      "Use tf.keras instead.\n",
      "INFO:tensorflow:loss = 0.8655652, step = 0\n",
      "INFO:tensorflow:global_step/sec: 1288.21\n",
      "INFO:tensorflow:loss = 0.73792624, step = 100 (0.079 sec)\n",
      "INFO:tensorflow:global_step/sec: 2219.04\n",
      "INFO:tensorflow:loss = 0.68006575, step = 200 (0.045 sec)\n",
      "INFO:tensorflow:global_step/sec: 2212.72\n",
      "INFO:tensorflow:loss = 0.6518302, step = 300 (0.044 sec)\n",
      "INFO:tensorflow:global_step/sec: 2269.23\n",
      "INFO:tensorflow:loss = 0.63417375, step = 400 (0.044 sec)\n",
      "INFO:tensorflow:global_step/sec: 2295.42\n",
      "INFO:tensorflow:loss = 0.5814102, step = 500 (0.045 sec)\n",
      "INFO:tensorflow:global_step/sec: 2243.77\n",
      "INFO:tensorflow:loss = 0.5817326, step = 600 (0.044 sec)\n",
      "INFO:tensorflow:global_step/sec: 2217.73\n",
      "INFO:tensorflow:loss = 0.55401266, step = 700 (0.044 sec)\n",
      "INFO:tensorflow:global_step/sec: 2216.96\n",
      "INFO:tensorflow:loss = 0.55372494, step = 800 (0.046 sec)\n",
      "INFO:tensorflow:global_step/sec: 2219\n",
      "INFO:tensorflow:loss = 0.52992177, step = 900 (0.044 sec)\n",
      "INFO:tensorflow:global_step/sec: 2268.14\n",
      "INFO:tensorflow:loss = 0.52671444, step = 1000 (0.044 sec)\n",
      "INFO:tensorflow:global_step/sec: 2321.09\n",
      "INFO:tensorflow:loss = 0.5040941, step = 1100 (0.044 sec)\n",
      "INFO:tensorflow:global_step/sec: 2269.06\n",
      "INFO:tensorflow:loss = 0.494995, step = 1200 (0.044 sec)\n",
      "INFO:tensorflow:global_step/sec: 2217.89\n",
      "INFO:tensorflow:loss = 0.4978434, step = 1300 (0.045 sec)\n",
      "INFO:tensorflow:global_step/sec: 2295.76\n",
      "INFO:tensorflow:loss = 0.47352713, step = 1400 (0.044 sec)\n",
      "INFO:tensorflow:global_step/sec: 2243.47\n",
      "INFO:tensorflow:loss = 0.46506554, step = 1500 (0.044 sec)\n",
      "INFO:tensorflow:global_step/sec: 2218.07\n",
      "INFO:tensorflow:loss = 0.47533584, step = 1600 (0.046 sec)\n",
      "INFO:tensorflow:global_step/sec: 2122.74\n",
      "INFO:tensorflow:loss = 0.44998515, step = 1700 (0.046 sec)\n",
      "INFO:tensorflow:global_step/sec: 2242.96\n",
      "INFO:tensorflow:loss = 0.4518209, step = 1800 (0.045 sec)\n",
      "INFO:tensorflow:global_step/sec: 2243.58\n",
      "INFO:tensorflow:loss = 0.43323845, step = 1900 (0.046 sec)\n",
      "INFO:tensorflow:global_step/sec: 2194.5\n",
      "INFO:tensorflow:loss = 0.43855762, step = 2000 (0.045 sec)\n",
      "INFO:tensorflow:global_step/sec: 2194.16\n",
      "INFO:tensorflow:loss = 0.42657334, step = 2100 (0.047 sec)\n",
      "INFO:tensorflow:global_step/sec: 2242.33\n",
      "INFO:tensorflow:loss = 0.42472637, step = 2200 (0.045 sec)\n",
      "INFO:tensorflow:global_step/sec: 2292.11\n",
      "INFO:tensorflow:loss = 0.41828185, step = 2300 (0.044 sec)\n",
      "INFO:tensorflow:global_step/sec: 2218.94\n",
      "INFO:tensorflow:loss = 0.4167695, step = 2400 (0.045 sec)\n",
      "INFO:tensorflow:global_step/sec: 2194.4\n",
      "INFO:tensorflow:loss = 0.4234823, step = 2500 (0.045 sec)\n",
      "INFO:tensorflow:global_step/sec: 2170.26\n",
      "INFO:tensorflow:loss = 0.40453237, step = 2600 (0.047 sec)\n",
      "INFO:tensorflow:global_step/sec: 2170.86\n",
      "INFO:tensorflow:loss = 0.40078127, step = 2700 (0.045 sec)\n",
      "INFO:tensorflow:global_step/sec: 2235.04\n",
      "INFO:tensorflow:loss = 0.39235562, step = 2800 (0.046 sec)\n",
      "INFO:tensorflow:global_step/sec: 2218.96\n",
      "INFO:tensorflow:loss = 0.39611855, step = 2900 (0.045 sec)\n",
      "INFO:tensorflow:global_step/sec: 2268.76\n",
      "INFO:tensorflow:loss = 0.38589427, step = 3000 (0.044 sec)\n",
      "INFO:tensorflow:global_step/sec: 2269.08\n",
      "INFO:tensorflow:loss = 0.38960397, step = 3100 (0.044 sec)\n",
      "INFO:tensorflow:global_step/sec: 2269.24\n",
      "INFO:tensorflow:loss = 0.3776124, step = 3200 (0.045 sec)\n",
      "INFO:tensorflow:global_step/sec: 2194.4\n",
      "INFO:tensorflow:loss = 0.3756943, step = 3300 (0.044 sec)\n",
      "INFO:tensorflow:global_step/sec: 2320.36\n",
      "INFO:tensorflow:loss = 0.38232547, step = 3400 (0.045 sec)\n",
      "INFO:tensorflow:global_step/sec: 2241.48\n",
      "INFO:tensorflow:loss = 0.38186932, step = 3500 (0.043 sec)\n",
      "INFO:tensorflow:global_step/sec: 2269.44\n",
      "INFO:tensorflow:loss = 0.36896616, step = 3600 (0.045 sec)\n",
      "INFO:tensorflow:global_step/sec: 2243.65\n",
      "INFO:tensorflow:loss = 0.3631901, step = 3700 (0.045 sec)\n",
      "INFO:tensorflow:global_step/sec: 2266.98\n",
      "INFO:tensorflow:loss = 0.35770488, step = 3800 (0.043 sec)\n",
      "INFO:tensorflow:global_step/sec: 2294.38\n",
      "INFO:tensorflow:loss = 0.36047074, step = 3900 (0.045 sec)\n",
      "INFO:tensorflow:global_step/sec: 2243.51\n",
      "INFO:tensorflow:loss = 0.35441202, step = 4000 (0.044 sec)\n",
      "INFO:tensorflow:global_step/sec: 2243.54\n",
      "INFO:tensorflow:loss = 0.34718627, step = 4100 (0.044 sec)\n",
      "INFO:tensorflow:global_step/sec: 2243.5\n",
      "INFO:tensorflow:loss = 0.3532061, step = 4200 (0.045 sec)\n",
      "INFO:tensorflow:global_step/sec: 2267.56\n",
      "INFO:tensorflow:loss = 0.3403616, step = 4300 (0.045 sec)\n",
      "INFO:tensorflow:global_step/sec: 2235.34\n",
      "INFO:tensorflow:loss = 0.3450321, step = 4400 (0.045 sec)\n",
      "INFO:tensorflow:global_step/sec: 2269.36\n",
      "INFO:tensorflow:loss = 0.34110177, step = 4500 (0.044 sec)\n",
      "INFO:tensorflow:global_step/sec: 2295.67\n",
      "INFO:tensorflow:loss = 0.3333835, step = 4600 (0.043 sec)\n",
      "INFO:tensorflow:global_step/sec: 2243.39\n",
      "INFO:tensorflow:loss = 0.32246113, step = 4700 (0.046 sec)\n",
      "INFO:tensorflow:global_step/sec: 2264.22\n",
      "INFO:tensorflow:loss = 0.32592797, step = 4800 (0.044 sec)\n",
      "INFO:tensorflow:global_step/sec: 2242.33\n",
      "INFO:tensorflow:loss = 0.3146035, step = 4900 (0.045 sec)\n",
      "INFO:tensorflow:Calling checkpoint listeners before saving checkpoint 5000...\n",
      "INFO:tensorflow:Saving checkpoints for 5000 into C:\\Users\\miraf\\AppData\\Local\\Temp\\tmp258cuhlh\\model.ckpt.\n",
      "INFO:tensorflow:Calling checkpoint listeners after saving checkpoint 5000...\n",
      "INFO:tensorflow:Loss for final step: 0.3159775.\n"
     ]
    },
    {
     "data": {
      "text/plain": [
       "<tensorflow_estimator.python.estimator.canned.dnn.DNNClassifierV2 at 0x218bcb0ae10>"
      ]
     },
     "execution_count": 3,
     "metadata": {},
     "output_type": "execute_result"
    }
   ],
   "source": [
    "classifier.train(\n",
    "    input_fn=lambda: input_fn(train, train_y, training=True), steps=5000\n",
    ") # lambda bullshit done because we just direct defined an input function instead of having the function making function"
   ]
  },
  {
   "cell_type": "code",
   "execution_count": 4,
   "metadata": {},
   "outputs": [
    {
     "name": "stdout",
     "output_type": "stream",
     "text": [
      "INFO:tensorflow:Calling model_fn.\n"
     ]
    },
    {
     "name": "stdout",
     "output_type": "stream",
     "text": [
      "INFO:tensorflow:Done calling model_fn.\n",
      "WARNING:tensorflow:From c:\\Users\\miraf\\AppData\\Local\\Programs\\Python\\Python311\\Lib\\site-packages\\tensorflow_estimator\\python\\estimator\\estimator.py:1821: The name tf.metrics.mean is deprecated. Please use tf.compat.v1.metrics.mean instead.\n",
      "\n",
      "INFO:tensorflow:Starting evaluation at 2023-12-13T17:13:10\n",
      "WARNING:tensorflow:From c:\\Users\\miraf\\AppData\\Local\\Programs\\Python\\Python311\\Lib\\site-packages\\tensorflow\\python\\training\\evaluation.py:260: FinalOpsHook.__init__ (from tensorflow.python.training.basic_session_run_hooks) is deprecated and will be removed in a future version.\n",
      "Instructions for updating:\n",
      "Use tf.keras instead.\n",
      "INFO:tensorflow:Graph was finalized.\n",
      "INFO:tensorflow:Restoring parameters from C:\\Users\\miraf\\AppData\\Local\\Temp\\tmp258cuhlh\\model.ckpt-5000\n",
      "INFO:tensorflow:Running local_init_op.\n",
      "INFO:tensorflow:Done running local_init_op.\n",
      "INFO:tensorflow:Inference Time : 0.13927s\n",
      "INFO:tensorflow:Finished evaluation at 2023-12-13-17:13:10\n",
      "INFO:tensorflow:Saving dict for global step 5000: accuracy = 0.93333334, average_loss = 0.37942275, global_step = 5000, loss = 0.37942275\n",
      "INFO:tensorflow:Saving 'checkpoint_path' summary for global step 5000: C:\\Users\\miraf\\AppData\\Local\\Temp\\tmp258cuhlh\\model.ckpt-5000\n"
     ]
    },
    {
     "data": {
      "text/plain": [
       "{'accuracy': 0.93333334,\n",
       " 'average_loss': 0.37942275,\n",
       " 'loss': 0.37942275,\n",
       " 'global_step': 5000}"
      ]
     },
     "execution_count": 4,
     "metadata": {},
     "output_type": "execute_result"
    }
   ],
   "source": [
    "classifier.evaluate(input_fn=lambda: input_fn(test, test_y, training=False))"
   ]
  },
  {
   "cell_type": "markdown",
   "metadata": {},
   "source": [
    "Yay, 93% accuracy!"
   ]
  },
  {
   "cell_type": "code",
   "execution_count": 7,
   "metadata": {},
   "outputs": [
    {
     "name": "stdout",
     "output_type": "stream",
     "text": [
      "Please type numeric values as prompted.\n",
      "INFO:tensorflow:Calling model_fn.\n",
      "INFO:tensorflow:Done calling model_fn.\n",
      "INFO:tensorflow:Graph was finalized.\n",
      "INFO:tensorflow:Restoring parameters from C:\\Users\\miraf\\AppData\\Local\\Temp\\tmp258cuhlh\\model.ckpt-5000\n",
      "INFO:tensorflow:Running local_init_op.\n",
      "INFO:tensorflow:Done running local_init_op.\n",
      "Prediction is \"Virginica\" (98.1%)\n"
     ]
    }
   ],
   "source": [
    "# Code to test specific datapoints\n",
    "def input_fn(features, batch_size=256):\n",
    "    return tf.data.Dataset.from_tensor_slices(dict(features)).batch(batch_size)\n",
    "\n",
    "features = ['SepalLength', 'SepalWidth', 'PetalLength', 'PetalWidth']\n",
    "predict = {}\n",
    "\n",
    "print(\"Please type numeric values as prompted.\")\n",
    "for feature in features:\n",
    "    valid = True\n",
    "    while valid:\n",
    "        val = input(feature + \": \")\n",
    "        if not val.isdigit(): valid=False\n",
    "    predict[feature] = [float(val)]\n",
    "\n",
    "predictions = classifier.predict(input_fn=lambda: input_fn(predict))\n",
    "for pred_dict in predictions:\n",
    "    class_id = pred_dict['class_ids'][0]\n",
    "    probability = pred_dict['probabilities'][class_id]\n",
    "\n",
    "    print('Prediction is \"{}\" ({:.1f}%)'.format(SPECIES[class_id], 100 * probability))\n",
    "\n"
   ]
  }
 ],
 "metadata": {
  "kernelspec": {
   "display_name": "Python 3",
   "language": "python",
   "name": "python3"
  },
  "language_info": {
   "codemirror_mode": {
    "name": "ipython",
    "version": 3
   },
   "file_extension": ".py",
   "mimetype": "text/x-python",
   "name": "python",
   "nbconvert_exporter": "python",
   "pygments_lexer": "ipython3",
   "version": "3.11.7"
  }
 },
 "nbformat": 4,
 "nbformat_minor": 2
}
